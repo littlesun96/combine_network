{
 "cells": [
  {
   "cell_type": "code",
   "execution_count": 1,
   "metadata": {
    "collapsed": true
   },
   "outputs": [],
   "source": [
    "import numpy as np\n",
    "%matplotlib inline\n",
    "import matplotlib.pyplot as plt\n",
    "import matplotlib\n",
    "import pandas as pd\n",
    "import os"
   ]
  },
  {
   "cell_type": "code",
   "execution_count": 2,
   "metadata": {
    "collapsed": true
   },
   "outputs": [],
   "source": [
    "X = []\n",
    "labels = []"
   ]
  },
  {
   "cell_type": "code",
   "execution_count": 3,
   "metadata": {},
   "outputs": [
    {
     "name": "stdout",
     "output_type": "stream",
     "text": [
      ".\\dataset\\10.4.14.84_19-10-2017_15-58-28.mp4.dataset.csv\n",
      ".\\dataset\\151223-2202.mp4.dataset.csv\n",
      ".\\dataset\\15_59_34.072.avi.dataset.csv\n",
      ".\\dataset\\16_00_06.789.avi.dataset.csv\n",
      ".\\dataset\\16_01_41.812.avi.dataset.csv\n",
      ".\\dataset\\16_01_58.060.avi.dataset.csv\n",
      ".\\dataset\\16_02_19.232.avi.dataset.csv\n",
      ".\\dataset\\16_02_38.857.avi.dataset.csv\n",
      ".\\dataset\\16_04_10.661.avi.dataset.csv\n",
      ".\\dataset\\16_05_29.723.avi.dataset.csv\n",
      ".\\dataset\\81_1.mp4.dataset.csv\n",
      ".\\dataset\\877_frag_eight.mp4.dataset.csv\n",
      ".\\dataset\\877_frag_five.mp4.dataset.csv\n",
      ".\\dataset\\877_frag_four.mp4.dataset.csv\n",
      ".\\dataset\\877_frag_one.mp4.dataset.csv\n",
      ".\\dataset\\877_frag_three.mp4.dataset.csv\n",
      ".\\dataset\\877_frag_two.mp4.dataset.csv\n",
      ".\\dataset\\888.mp4.dataset.csv\n",
      ".\\dataset\\birds.mp4.dataset.csv\n",
      ".\\dataset\\Cam4_19-10-2017_14-30-13.mp4.dataset.csv\n",
      ".\\dataset\\Cam4_23-10-2017_17-20-03.mp4.dataset.csv\n",
      ".\\dataset\\Cam_4_03-11-2017_12-23-32.mp4.dataset.csv\n",
      ".\\dataset\\Cam_4_03-11-2017_12-34-08.mp4.dataset.csv\n",
      ".\\dataset\\flight.mp4.dataset.csv\n",
      ".\\dataset\\gopro142.mp4.dataset.csv\n",
      ".\\dataset\\gopro143.mp4.dataset.csv\n",
      ".\\dataset\\gopro144.mp4.dataset.csv\n",
      ".\\dataset\\Phantom3_10.4.14.82_03-11-2017_19-32-21.mp4.dataset.csv\n",
      ".\\dataset\\Phantom3_10.4.14.82_03-11-2017_19-34-26.mp4.dataset.csv\n",
      ".\\dataset\\Phantom3_10.4.14.82_03-11-2017_19-36-48.mp4.dataset.csv\n",
      ".\\dataset\\Phantom3_10.4.14.82_03-11-2017_19-38-57.mp4.dataset.csv\n",
      ".\\dataset\\Phantom3_10.4.14.82_03-11-2017_19-40-15.mp4.dataset.csv\n",
      ".\\dataset\\Phantom3_10.4.14.82_03-11-2017_19-41-36.mp4.dataset.csv\n",
      ".\\dataset\\Phantom3_10.4.14.82_03-11-2017_19-57-07.mp4.dataset.csv\n",
      ".\\dataset\\Phantom3_10.4.14.82_03-11-2017_19-57-24.mp4.dataset.csv\n",
      ".\\dataset\\snow.mp4.dataset.csv\n",
      ".\\dataset\\snow3.mp4.dataset.csv\n",
      ".\\dataset\\test.mp4.dataset.csv\n",
      ".\\dataset\\uav_rec4.mp4.dataset.csv\n"
     ]
    }
   ],
   "source": [
    "for root, dirs, files in os.walk(\".\\dataset\", topdown=False):\n",
    "    for name in files:\n",
    "        print(os.path.join(root,name))\n",
    "        data = pd.read_csv(os.path.join(root,name), header=None, index_col=False)\n",
    "        df_arr = data.as_matrix()\n",
    "        N, D = df_arr.shape\n",
    "        for i in range(0,N,1):\n",
    "            X.append(df_arr[i,1:D])\n",
    "            labels.append(int(df_arr[i, 0] - 1))"
   ]
  },
  {
   "cell_type": "code",
   "execution_count": 4,
   "metadata": {},
   "outputs": [
    {
     "data": {
      "text/plain": [
       "298"
      ]
     },
     "execution_count": 4,
     "metadata": {},
     "output_type": "execute_result"
    }
   ],
   "source": [
    "labels = np.array(labels)\n",
    "len(labels[labels==0])"
   ]
  },
  {
   "cell_type": "code",
   "execution_count": 5,
   "metadata": {},
   "outputs": [
    {
     "data": {
      "text/plain": [
       "3011"
      ]
     },
     "execution_count": 5,
     "metadata": {},
     "output_type": "execute_result"
    }
   ],
   "source": [
    "len(labels[labels==1])"
   ]
  },
  {
   "cell_type": "code",
   "execution_count": 6,
   "metadata": {
    "collapsed": true
   },
   "outputs": [],
   "source": [
    "X = np.array(X)"
   ]
  },
  {
   "cell_type": "code",
   "execution_count": 7,
   "metadata": {},
   "outputs": [
    {
     "data": {
      "text/plain": [
       "array([1, 1, 1, ..., 1, 0, 0])"
      ]
     },
     "execution_count": 7,
     "metadata": {},
     "output_type": "execute_result"
    }
   ],
   "source": [
    "labels"
   ]
  },
  {
   "cell_type": "code",
   "execution_count": 8,
   "metadata": {
    "collapsed": true
   },
   "outputs": [],
   "source": [
    "index0 = np.where(labels==0)[0]\n",
    "index1 = np.where(labels==1)[0]"
   ]
  },
  {
   "cell_type": "code",
   "execution_count": 9,
   "metadata": {},
   "outputs": [],
   "source": [
    "index1_cut = index1[:(len(labels[labels==0]))]\n",
    "new_labels = np.concatenate((labels[index0], labels[index1_cut]), 0)"
   ]
  },
  {
   "cell_type": "code",
   "execution_count": 10,
   "metadata": {
    "collapsed": true
   },
   "outputs": [],
   "source": [
    "new_X = np.concatenate((X[index0], X[index1_cut]), 0)"
   ]
  },
  {
   "cell_type": "code",
   "execution_count": 11,
   "metadata": {},
   "outputs": [
    {
     "data": {
      "text/plain": [
       "596"
      ]
     },
     "execution_count": 11,
     "metadata": {},
     "output_type": "execute_result"
    }
   ],
   "source": [
    "len(new_X)"
   ]
  },
  {
   "cell_type": "code",
   "execution_count": null,
   "metadata": {
    "collapsed": true
   },
   "outputs": [],
   "source": []
  },
  {
   "cell_type": "code",
   "execution_count": null,
   "metadata": {
    "collapsed": true
   },
   "outputs": [],
   "source": []
  },
  {
   "cell_type": "code",
   "execution_count": null,
   "metadata": {
    "collapsed": true
   },
   "outputs": [],
   "source": []
  },
  {
   "cell_type": "code",
   "execution_count": null,
   "metadata": {
    "collapsed": true
   },
   "outputs": [],
   "source": []
  },
  {
   "cell_type": "code",
   "execution_count": 12,
   "metadata": {
    "collapsed": true
   },
   "outputs": [],
   "source": [
    "from sklearn.model_selection import train_test_split\n",
    "X_train, X_test, label_train, label_test = train_test_split(np.array(new_X), np.array(new_labels), test_size=0.1, random_state=43, stratify=new_labels)"
   ]
  },
  {
   "cell_type": "code",
   "execution_count": null,
   "metadata": {
    "collapsed": true
   },
   "outputs": [],
   "source": []
  },
  {
   "cell_type": "code",
   "execution_count": 13,
   "metadata": {
    "collapsed": true
   },
   "outputs": [],
   "source": [
    "y_train = np.reshape(label_train, (label_train.size, 1))\n",
    "y_train = np.concatenate((1 - y_train, y_train), 1)"
   ]
  },
  {
   "cell_type": "code",
   "execution_count": 14,
   "metadata": {
    "collapsed": true
   },
   "outputs": [],
   "source": [
    "y_test = np.reshape(label_test, (label_test.size, 1))\n",
    "y_test = np.concatenate((1 - y_test, y_test), 1)"
   ]
  },
  {
   "cell_type": "code",
   "execution_count": null,
   "metadata": {
    "collapsed": true
   },
   "outputs": [],
   "source": []
  },
  {
   "cell_type": "code",
   "execution_count": 50,
   "metadata": {},
   "outputs": [],
   "source": [
    "from keras.layers import Dense, Input\n",
    "from keras.models import Model\n",
    "\n",
    "inp = Input(shape=(1040,))\n",
    "dense_1 = Dense(512, activation='relu')(inp)\n",
    "dense_2 = Dense(64, activation='sigmoid')(dense_1)\n",
    "dense_3 = Dense(2, activation='softmax')(dense_2)\n",
    "\n",
    "model = Model(inputs=inp, outputs=dense_3)"
   ]
  },
  {
   "cell_type": "code",
   "execution_count": 51,
   "metadata": {},
   "outputs": [],
   "source": [
    "model.compile(optimizer='Adam', loss='categorical_crossentropy', metrics=['categorical_accuracy'])"
   ]
  },
  {
   "cell_type": "code",
   "execution_count": 52,
   "metadata": {},
   "outputs": [
    {
     "name": "stdout",
     "output_type": "stream",
     "text": [
      "_________________________________________________________________\n",
      "Layer (type)                 Output Shape              Param #   \n",
      "=================================================================\n",
      "input_6 (InputLayer)         (None, 1040)              0         \n",
      "_________________________________________________________________\n",
      "dense_16 (Dense)             (None, 512)               532992    \n",
      "_________________________________________________________________\n",
      "dense_17 (Dense)             (None, 64)                32832     \n",
      "_________________________________________________________________\n",
      "dense_18 (Dense)             (None, 2)                 130       \n",
      "=================================================================\n",
      "Total params: 565,954\n",
      "Trainable params: 565,954\n",
      "Non-trainable params: 0\n",
      "_________________________________________________________________\n"
     ]
    }
   ],
   "source": [
    "model.summary()"
   ]
  },
  {
   "cell_type": "code",
   "execution_count": 53,
   "metadata": {},
   "outputs": [
    {
     "name": "stdout",
     "output_type": "stream",
     "text": [
      "Train on 536 samples, validate on 60 samples\n",
      "Epoch 1/10\n",
      " - 2s - loss: 0.4498 - categorical_accuracy: 0.8022 - val_loss: 0.2849 - val_categorical_accuracy: 0.9000\n",
      "Epoch 2/10\n",
      " - 1s - loss: 0.2251 - categorical_accuracy: 0.9216 - val_loss: 0.2203 - val_categorical_accuracy: 0.9500\n",
      "Epoch 3/10\n",
      " - 1s - loss: 0.1537 - categorical_accuracy: 0.9459 - val_loss: 0.2291 - val_categorical_accuracy: 0.9167\n",
      "Epoch 4/10\n",
      " - 1s - loss: 0.1233 - categorical_accuracy: 0.9552 - val_loss: 0.2623 - val_categorical_accuracy: 0.9167\n",
      "Epoch 5/10\n",
      " - 1s - loss: 0.1026 - categorical_accuracy: 0.9627 - val_loss: 0.2936 - val_categorical_accuracy: 0.9000\n",
      "Epoch 6/10\n",
      " - 1s - loss: 0.0692 - categorical_accuracy: 0.9776 - val_loss: 0.2298 - val_categorical_accuracy: 0.9167\n",
      "Epoch 7/10\n",
      " - 1s - loss: 0.0725 - categorical_accuracy: 0.9757 - val_loss: 0.2497 - val_categorical_accuracy: 0.9167\n",
      "Epoch 8/10\n",
      " - 1s - loss: 0.0697 - categorical_accuracy: 0.9739 - val_loss: 0.3057 - val_categorical_accuracy: 0.9000\n",
      "Epoch 9/10\n",
      " - 1s - loss: 0.0540 - categorical_accuracy: 0.9795 - val_loss: 0.1736 - val_categorical_accuracy: 0.9500\n",
      "Epoch 10/10\n",
      " - 1s - loss: 0.0461 - categorical_accuracy: 0.9832 - val_loss: 0.2958 - val_categorical_accuracy: 0.9167\n"
     ]
    }
   ],
   "source": [
    "history = model.fit(X_train, y_train, batch_size=4, epochs=10, verbose=2, validation_data=(X_test, y_test))"
   ]
  },
  {
   "cell_type": "code",
   "execution_count": 54,
   "metadata": {},
   "outputs": [
    {
     "data": {
      "image/png": "[encoded data removed]",
      "text/plain": [
       "<matplotlib.figure.Figure at 0x202496e1588>"
      ]
     },
     "metadata": {},
     "output_type": "display_data"
    }
   ],
   "source": [
    "plt.plot(history.history['categorical_accuracy'])\n",
    "plt.plot(history.history['val_categorical_accuracy'])\n",
    "plt.title('model accuracy')\n",
    "plt.ylabel('accuracy')\n",
    "plt.xlabel('epoch')\n",
    "plt.legend(['train', 'test'], loc='upper left')\n",
    "plt.show()"
   ]
  },
  {
   "cell_type": "code",
   "execution_count": 55,
   "metadata": {},
   "outputs": [
    {
     "data": {
      "image/png": "[encoded data removed]",
      "text/plain": [
       "<matplotlib.figure.Figure at 0x2024adf2550>"
      ]
     },
     "metadata": {},
     "output_type": "display_data"
    }
   ],
   "source": [
    "plt.plot(history.history['loss'])\n",
    "plt.plot(history.history['val_loss'])\n",
    "plt.title('model loss')\n",
    "plt.ylabel('loss')\n",
    "plt.xlabel('epoch')\n",
    "plt.legend(['train', 'test'], loc='upper left')\n",
    "plt.show()"
   ]
  },
  {
   "cell_type": "code",
   "execution_count": null,
   "metadata": {
    "collapsed": true
   },
   "outputs": [],
   "source": []
  },
  {
   "cell_type": "code",
   "execution_count": 57,
   "metadata": {},
   "outputs": [],
   "source": [
    "label_pred = model.predict(X_test)"
   ]
  },
  {
   "cell_type": "code",
   "execution_count": 63,
   "metadata": {},
   "outputs": [
    {
     "data": {
      "text/plain": [
       "array([[9.99002516e-01, 9.97470226e-04],\n",
       "       [7.57887125e-01, 2.42112815e-01],\n",
       "       [9.99455750e-01, 5.44267707e-04],\n",
       "       [9.92141008e-01, 7.85892922e-03],\n",
       "       [9.96415734e-01, 3.58425290e-03],\n",
       "       [1.78891234e-03, 9.98211145e-01],\n",
       "       [8.79780352e-01, 1.20219685e-01],\n",
       "       [9.98661995e-01, 1.33804453e-03],\n",
       "       [9.88747835e-01, 1.12521015e-02],\n",
       "       [6.68960251e-03, 9.93310452e-01],\n",
       "       [2.19083647e-03, 9.97809231e-01],\n",
       "       [8.99059951e-01, 1.00940056e-01],\n",
       "       [9.99619007e-01, 3.80939658e-04],\n",
       "       [1.54504990e-02, 9.84549522e-01],\n",
       "       [9.99606073e-01, 3.93956056e-04],\n",
       "       [9.98230994e-01, 1.76899566e-03],\n",
       "       [9.98617887e-01, 1.38212589e-03],\n",
       "       [2.67258659e-03, 9.97327447e-01],\n",
       "       [9.99056518e-01, 9.43505089e-04],\n",
       "       [9.90585983e-01, 9.41404328e-03],\n",
       "       [9.98962522e-01, 1.03751896e-03],\n",
       "       [9.98688519e-01, 1.31152919e-03],\n",
       "       [9.97417688e-01, 2.58224225e-03],\n",
       "       [1.22368122e-02, 9.87763107e-01],\n",
       "       [9.99396682e-01, 6.03279099e-04],\n",
       "       [4.51285727e-02, 9.54871356e-01],\n",
       "       [9.99222398e-01, 7.77542708e-04],\n",
       "       [9.95812595e-01, 4.18734457e-03],\n",
       "       [1.84130820e-03, 9.98158634e-01],\n",
       "       [4.51657921e-03, 9.95483398e-01],\n",
       "       [2.28723302e-03, 9.97712731e-01],\n",
       "       [2.24675750e-03, 9.97753203e-01],\n",
       "       [2.34895246e-03, 9.97651041e-01],\n",
       "       [9.78928745e-01, 2.10712180e-02],\n",
       "       [2.15079472e-03, 9.97849226e-01],\n",
       "       [2.37549702e-03, 9.97624457e-01],\n",
       "       [9.99429286e-01, 5.70697128e-04],\n",
       "       [1.86808512e-03, 9.98131931e-01],\n",
       "       [8.06083530e-03, 9.91939127e-01],\n",
       "       [1.56381205e-02, 9.84361887e-01],\n",
       "       [9.99546468e-01, 4.53458342e-04],\n",
       "       [9.97818589e-01, 2.18141032e-03],\n",
       "       [9.99540925e-01, 4.59097355e-04],\n",
       "       [9.86312330e-01, 1.36877084e-02],\n",
       "       [1.34435133e-03, 9.98655677e-01],\n",
       "       [8.92772079e-01, 1.07227959e-01],\n",
       "       [9.62175578e-02, 9.03782487e-01],\n",
       "       [2.61638174e-03, 9.97383654e-01],\n",
       "       [2.30462495e-02, 9.76953804e-01],\n",
       "       [1.40959352e-01, 8.59040678e-01],\n",
       "       [9.92689073e-01, 7.31092319e-03],\n",
       "       [9.99725163e-01, 2.74848251e-04],\n",
       "       [3.30924764e-02, 9.66907501e-01],\n",
       "       [4.46601072e-03, 9.95533943e-01],\n",
       "       [3.79532436e-03, 9.96204674e-01],\n",
       "       [9.97332454e-01, 2.66751484e-03],\n",
       "       [9.74317670e-01, 2.56823264e-02],\n",
       "       [9.99677420e-01, 3.22641019e-04],\n",
       "       [9.85274434e-01, 1.47255687e-02],\n",
       "       [9.98755932e-01, 1.24402065e-03]], dtype=float32)"
      ]
     },
     "execution_count": 63,
     "metadata": {},
     "output_type": "execute_result"
    }
   ],
   "source": [
    "label_pred"
   ]
  },
  {
   "cell_type": "code",
   "execution_count": 77,
   "metadata": {},
   "outputs": [],
   "source": [
    "y_res = np.argmax(label_pred, axis=1)"
   ]
  },
  {
   "cell_type": "code",
   "execution_count": 78,
   "metadata": {},
   "outputs": [
    {
     "data": {
      "text/plain": [
       "array([0, 0, 0, 0, 0, 1, 0, 0, 0, 1, 1, 0, 0, 1, 0, 0, 0, 1, 0, 0, 0, 0,\n",
       "       0, 1, 0, 1, 0, 0, 1, 1, 1, 1, 1, 0, 1, 1, 0, 1, 1, 1, 0, 0, 0, 0,\n",
       "       1, 0, 1, 1, 1, 1, 0, 0, 1, 1, 1, 0, 0, 0, 0, 0], dtype=int64)"
      ]
     },
     "execution_count": 78,
     "metadata": {},
     "output_type": "execute_result"
    }
   ],
   "source": [
    "y_res"
   ]
  },
  {
   "cell_type": "code",
   "execution_count": 70,
   "metadata": {
    "collapsed": true
   },
   "outputs": [],
   "source": [
    "y_class = np.reshape(y_res, (y_cres.size, 1))\n",
    "y_class = np.concatenate((1 - y_class, y_class), 1)"
   ]
  },
  {
   "cell_type": "code",
   "execution_count": 71,
   "metadata": {
    "collapsed": true
   },
   "outputs": [],
   "source": [
    "from sklearn.metrics import f1_score, precision_score, recall_score"
   ]
  },
  {
   "cell_type": "code",
   "execution_count": 72,
   "metadata": {},
   "outputs": [
    {
     "data": {
      "text/plain": [
       "array([0.92307692, 0.90909091])"
      ]
     },
     "execution_count": 72,
     "metadata": {},
     "output_type": "execute_result"
    }
   ],
   "source": [
    "f1_score(y_test, y_class, average=None)"
   ]
  },
  {
   "cell_type": "code",
   "execution_count": 73,
   "metadata": {},
   "outputs": [
    {
     "data": {
      "text/plain": [
       "array([0.85714286, 1.        ])"
      ]
     },
     "execution_count": 73,
     "metadata": {},
     "output_type": "execute_result"
    }
   ],
   "source": [
    "precision_score(y_test, y_class, average=None)"
   ]
  },
  {
   "cell_type": "code",
   "execution_count": 74,
   "metadata": {},
   "outputs": [
    {
     "data": {
      "text/plain": [
       "array([1.        , 0.83333333])"
      ]
     },
     "execution_count": 74,
     "metadata": {},
     "output_type": "execute_result"
    }
   ],
   "source": [
    "recall_score(y_test, y_class, average=None)"
   ]
  },
  {
   "cell_type": "code",
   "execution_count": 75,
   "metadata": {
    "collapsed": true
   },
   "outputs": [],
   "source": [
    "from sklearn.metrics import confusion_matrix"
   ]
  },
  {
   "cell_type": "code",
   "execution_count": 79,
   "metadata": {},
   "outputs": [
    {
     "data": {
      "text/plain": [
       "array([[30,  0],\n",
       "       [ 5, 25]], dtype=int64)"
      ]
     },
     "execution_count": 79,
     "metadata": {},
     "output_type": "execute_result"
    }
   ],
   "source": [
    "confusion_matrix(label_test, y_class)"
   ]
  },
  {
   "cell_type": "code",
   "execution_count": null,
   "metadata": {
    "collapsed": true
   },
   "outputs": [],
   "source": []
  },
  {
   "cell_type": "code",
   "execution_count": 80,
   "metadata": {
    "collapsed": true
   },
   "outputs": [],
   "source": [
    "model.save(\"model1.h5\")"
   ]
  },
  {
   "cell_type": "code",
   "execution_count": null,
   "metadata": {
    "collapsed": true
   },
   "outputs": [],
   "source": []
  },
  {
   "cell_type": "code",
   "execution_count": null,
   "metadata": {
    "collapsed": true
   },
   "outputs": [],
   "source": []
  }
 ],
 "metadata": {
  "kernelspec": {
   "display_name": "Python 3",
   "language": "python",
   "name": "python3"
  },
  "language_info": {
   "codemirror_mode": {
    "name": "ipython",
    "version": 3
   },
   "file_extension": ".py",
   "mimetype": "text/x-python",
   "name": "python",
   "nbconvert_exporter": "python",
   "pygments_lexer": "ipython3",
   "version": "3.5.2"
  }
 },
 "nbformat": 4,
 "nbformat_minor": 2
}
